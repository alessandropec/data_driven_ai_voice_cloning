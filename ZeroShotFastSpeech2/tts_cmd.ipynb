{
 "cells": [
  {
   "attachments": {},
   "cell_type": "markdown",
   "metadata": {},
   "source": [
    "# Preprocess LibriTTS\n",
    "\n",
    "1. prepare_align: reorganize the dataset\n",
    "2. preprocess use text grid and dataset to generate mel,duration,pitch,energy (see readme.md)"
   ]
  },
  {
   "cell_type": "code",
   "execution_count": null,
   "metadata": {},
   "outputs": [],
   "source": [
    "%%cmd\n",
    "python ./prepare_align.py ./config/LibriTTS/preprocess.yaml"
   ]
  },
  {
   "cell_type": "code",
   "execution_count": null,
   "metadata": {},
   "outputs": [],
   "source": [
    "%%cmd\n",
    "python ./preprocess.py ./config/LibriTTS/preprocess.yaml"
   ]
  },
  {
   "attachments": {},
   "cell_type": "markdown",
   "metadata": {},
   "source": [
    "# Train FastSpeech2\n",
    "\n",
    "Specify, the configuration, for Simple MultiSpeaker or ZeroShot "
   ]
  },
  {
   "cell_type": "code",
   "execution_count": 11,
   "metadata": {},
   "outputs": [
    {
     "name": "stdout",
     "output_type": "stream",
     "text": [
      "Microsoft Windows [Version 10.0.19045.2486]\n",
      "(c) Microsoft Corporation. All rights reserved.\n",
      "\n",
      "(datascience) c:\\Users\\a.pecora\\Desktop\\Tesi\\data_driven_ai_voice_cloning\\ZeroShotFastSpeech2>python ./train.py                        ^\n",
      "More?     -p ./config/LibriTTS/preprocess.yaml ^\n",
      "More?     -m ./config/LibriTTS/model.yaml      ^\n",
      "More?     -t ./config/LibriTTS/train.yaml\n",
      "Prepare training ...\n",
      "Decoder dimension: 320\n",
      "Number of FastSpeech2 Parameters: 40503617\n",
      "Removing weight norm...\n"
     ]
    },
    {
     "name": "stderr",
     "output_type": "stream",
     "text": [
      "Training:   0%|          | 0/2000 [00:00<?, ?it/s]\n",
      "Epoch 1:   0%|          | 0/251 [00:00<?, ?it/s]\u001b[ATraceback (most recent call last):\n",
      "  File \"c:\\Users\\a.pecora\\Desktop\\Tesi\\data_driven_ai_voice_cloning\\ZeroShotFastSpeech2\\train.py\", line 206, in <module>\n",
      "    main(args, configs)\n",
      "  File \"c:\\Users\\a.pecora\\Desktop\\Tesi\\data_driven_ai_voice_cloning\\ZeroShotFastSpeech2\\train.py\", line 90, in main\n",
      "    output = model(*(batch[2:]))\n",
      "  File \"c:\\Users\\a.pecora\\Anaconda3\\envs\\datascience\\lib\\site-packages\\torch\\nn\\modules\\module.py\", line 1190, in _call_impl\n",
      "    return forward_call(*input, **kwargs)\n",
      "  File \"c:\\Users\\a.pecora\\Anaconda3\\envs\\datascience\\lib\\site-packages\\torch\\nn\\parallel\\data_parallel.py\", line 169, in forward\n",
      "    return self.module(*inputs[0], **kwargs[0])\n",
      "  File \"c:\\Users\\a.pecora\\Anaconda3\\envs\\datascience\\lib\\site-packages\\torch\\nn\\modules\\module.py\", line 1190, in _call_impl\n",
      "    return forward_call(*input, **kwargs)\n",
      "  File \"c:\\Users\\a.pecora\\Desktop\\Tesi\\data_driven_ai_voice_cloning\\ZeroShotFastSpeech2\\model\\fastspeech2.py\", line 143, in forward\n",
      "    ) = self.variance_adaptor(\n",
      "  File \"c:\\Users\\a.pecora\\Anaconda3\\envs\\datascience\\lib\\site-packages\\torch\\nn\\modules\\module.py\", line 1190, in _call_impl\n",
      "    return forward_call(*input, **kwargs)\n",
      "  File \"c:\\Users\\a.pecora\\Desktop\\Tesi\\data_driven_ai_voice_cloning\\ZeroShotFastSpeech2\\model\\modules.py\", line 116, in forward\n",
      "    log_duration_prediction = self.duration_predictor(x, src_mask)\n",
      "  File \"c:\\Users\\a.pecora\\Anaconda3\\envs\\datascience\\lib\\site-packages\\torch\\nn\\modules\\module.py\", line 1190, in _call_impl\n",
      "    return forward_call(*input, **kwargs)\n",
      "  File \"c:\\Users\\a.pecora\\Desktop\\Tesi\\data_driven_ai_voice_cloning\\ZeroShotFastSpeech2\\model\\modules.py\", line 245, in forward\n",
      "    out = self.conv_layer(encoder_output)\n",
      "  File \"c:\\Users\\a.pecora\\Anaconda3\\envs\\datascience\\lib\\site-packages\\torch\\nn\\modules\\module.py\", line 1190, in _call_impl\n",
      "    return forward_call(*input, **kwargs)\n",
      "  File \"c:\\Users\\a.pecora\\Anaconda3\\envs\\datascience\\lib\\site-packages\\torch\\nn\\modules\\container.py\", line 204, in forward\n",
      "    input = module(input)\n",
      "  File \"c:\\Users\\a.pecora\\Anaconda3\\envs\\datascience\\lib\\site-packages\\torch\\nn\\modules\\module.py\", line 1190, in _call_impl\n",
      "    return forward_call(*input, **kwargs)\n",
      "  File \"c:\\Users\\a.pecora\\Desktop\\Tesi\\data_driven_ai_voice_cloning\\ZeroShotFastSpeech2\\model\\modules.py\", line 295, in forward\n",
      "    x = self.conv(x)\n",
      "  File \"c:\\Users\\a.pecora\\Anaconda3\\envs\\datascience\\lib\\site-packages\\torch\\nn\\modules\\module.py\", line 1190, in _call_impl\n",
      "    return forward_call(*input, **kwargs)\n",
      "  File \"c:\\Users\\a.pecora\\Anaconda3\\envs\\datascience\\lib\\site-packages\\torch\\nn\\modules\\conv.py\", line 313, in forward\n",
      "    return self._conv_forward(input, self.weight, self.bias)\n",
      "  File \"c:\\Users\\a.pecora\\Anaconda3\\envs\\datascience\\lib\\site-packages\\torch\\nn\\modules\\conv.py\", line 309, in _conv_forward\n",
      "    return F.conv1d(input, weight, bias, self.stride,\n",
      "RuntimeError: Given groups=1, weight of size [256, 448, 3], expected input[2, 320, 53] to have 448 channels, but got 320 channels instead\n",
      "Training:   0%|          | 1/2000 [00:04<2:46:13,  4.99s/it]\n",
      "Epoch 1:   0%|          | 0/251 [00:04<?, ?it/s]\n"
     ]
    },
    {
     "name": "stdout",
     "output_type": "stream",
     "text": [
      "\n",
      "(datascience) c:\\Users\\a.pecora\\Desktop\\Tesi\\data_driven_ai_voice_cloning\\ZeroShotFastSpeech2>"
     ]
    }
   ],
   "source": [
    "%%cmd\n",
    "python ./train.py                        ^\n",
    "    -p ./config/LibriTTS/preprocess.yaml ^\n",
    "    -m ./config/LibriTTS/model.yaml      ^\n",
    "    -t ./config/LibriTTS/train.yaml"
   ]
  },
  {
   "cell_type": "code",
   "execution_count": null,
   "metadata": {},
   "outputs": [],
   "source": []
  }
 ],
 "metadata": {
  "kernelspec": {
   "display_name": "datascience",
   "language": "python",
   "name": "python3"
  },
  "language_info": {
   "codemirror_mode": {
    "name": "ipython",
    "version": 3
   },
   "file_extension": ".py",
   "mimetype": "text/x-python",
   "name": "python",
   "nbconvert_exporter": "python",
   "pygments_lexer": "ipython3",
   "version": "3.9.15"
  },
  "orig_nbformat": 4,
  "vscode": {
   "interpreter": {
    "hash": "26f7c1def80802f1019f9a945fc7cde95e62b8e18003bcf130d5105a098d1fb2"
   }
  }
 },
 "nbformat": 4,
 "nbformat_minor": 2
}
