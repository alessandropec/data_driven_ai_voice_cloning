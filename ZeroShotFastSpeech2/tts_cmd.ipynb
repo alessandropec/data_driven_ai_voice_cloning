{
 "cells": [
  {
   "attachments": {},
   "cell_type": "markdown",
   "metadata": {},
   "source": [
    "# Preprocess LibriTTS\n",
    "\n",
    "1. prepare_align: reorganize the dataset\n",
    "2. preprocess use text grid and dataset to generate mel,duration,pitch,energy (see readme.md)"
   ]
  },
  {
   "cell_type": "code",
   "execution_count": null,
   "metadata": {},
   "outputs": [],
   "source": [
    "%%cmd\n",
    "python ./prepare_align.py ./config/LibriTTS/preprocess.yaml"
   ]
  },
  {
   "cell_type": "code",
   "execution_count": null,
   "metadata": {},
   "outputs": [],
   "source": [
    "%%cmd\n",
    "python ./preprocess.py ./config/LibriTTS/preprocess.yaml"
   ]
  },
  {
   "attachments": {},
   "cell_type": "markdown",
   "metadata": {},
   "source": [
    "# Train FastSpeech2\n",
    "\n",
    "Specify, the configuration, for Simple MultiSpeaker or ZeroShot "
   ]
  },
  {
   "cell_type": "code",
   "execution_count": 1,
   "metadata": {},
   "outputs": [
    {
     "name": "stdout",
     "output_type": "stream",
     "text": [
      "Microsoft Windows [Version 10.0.19045.2486]\n",
      "(c) Microsoft Corporation. All rights reserved.\n",
      "\n",
      "(datascience) c:\\Users\\a.pecora\\Desktop\\Tesi\\data_driven_ai_voice_cloning\\ZeroShotFastSpeech2>python ./train.py                        ^\n",
      "More?     -p ./config/LibriTTS/preprocess.yaml ^\n",
      "More?     -m ./config/LibriTTS/model.yaml      ^\n",
      "More?     -t ./config/LibriTTS/train.yaml\n",
      "Prepare training ...\n",
      "Speaker adding strategy, sum, using speaker projector!\n",
      "Decoder dimension: 256\n",
      "Number of FastSpeech2 Parameters: 35208769\n",
      "Removing weight norm...\n"
     ]
    },
    {
     "name": "stderr",
     "output_type": "stream",
     "text": [
      "Training:   0%|          | 0/2000 [00:00<?, ?it/s]\n",
      "Training:   0%|          | 2/2000 [00:02<37:04,  1.11s/it]\n",
      "Training:   0%|          | 3/2000 [00:02<25:36,  1.30it/s]A\n",
      "Training:   0%|          | 4/2000 [00:02<20:46,  1.60it/s]A\n",
      "Training:   0%|          | 5/2000 [00:03<17:59,  1.85it/s]A\n",
      "Training:   0%|          | 6/2000 [00:03<17:07,  1.94it/s]A\n",
      "Training:   0%|          | 7/2000 [00:04<18:27,  1.80it/s]A\n",
      "Training:   0%|          | 8/2000 [00:04<18:02,  1.84it/s]A\n",
      "Training:   0%|          | 9/2000 [00:05<16:36,  2.00it/s]A\n",
      "Training:   0%|          | 10/2000 [00:05<17:08,  1.93it/s]\n",
      "                                                           \n"
     ]
    },
    {
     "name": "stdout",
     "output_type": "stream",
     "text": [
      "Step 10/2000, Total Loss: 16.9847, Mel Loss: 4.8887, Mel PostNet Loss: 4.9487, Pitch Loss: 1.6116, Energy Loss: 1.9122, Duration Loss: 3.6235\n"
     ]
    },
    {
     "name": "stderr",
     "output_type": "stream",
     "text": [
      "Training:   0%|          | 10/2000 [00:06<17:08,  1.93it/s]\n",
      "Training:   1%|          | 11/2000 [00:06<20:14,  1.64it/s]\n",
      "Training:   1%|          | 12/2000 [00:06<15:47,  2.10it/s]A\n",
      "Training:   1%|          | 13/2000 [00:07<14:57,  2.21it/s]A\n",
      "Training:   1%|          | 14/2000 [00:07<16:11,  2.04it/s]A\n",
      "Training:   1%|          | 15/2000 [00:08<18:13,  1.82it/s]A\n",
      "Training:   1%|          | 16/2000 [00:09<17:40,  1.87it/s]A\n",
      "Training:   1%|          | 17/2000 [00:09<15:17,  2.16it/s]A\n",
      "Training:   1%|          | 18/2000 [00:09<13:43,  2.41it/s]A\n",
      "Training:   1%|          | 19/2000 [00:09<12:46,  2.59it/s]A\n",
      "Training:   1%|          | 20/2000 [00:10<13:39,  2.42it/s]A\n",
      "                                                           A\n"
     ]
    },
    {
     "name": "stdout",
     "output_type": "stream",
     "text": [
      "Step 20/2000, Total Loss: 13.4497, Mel Loss: 4.3696, Mel PostNet Loss: 4.4159, Pitch Loss: 0.7918, Energy Loss: 1.1325, Duration Loss: 2.7399\n"
     ]
    },
    {
     "name": "stderr",
     "output_type": "stream",
     "text": [
      "Training:   1%|          | 20/2000 [00:11<13:39,  2.42it/s]\n",
      "Training:   1%|          | 21/2000 [00:11<17:13,  1.92it/s]A\n",
      "Training:   1%|          | 22/2000 [00:11<15:30,  2.13it/s]A\n",
      "Training:   1%|          | 23/2000 [00:12<17:48,  1.85it/s]A\n",
      "Training:   1%|          | 24/2000 [00:12<17:50,  1.85it/s]A\n",
      "Training:   1%|▏         | 25/2000 [00:13<16:55,  1.95it/s]A\n",
      "Training:   1%|▏         | 26/2000 [00:13<18:01,  1.83it/s]A\n",
      "Training:   1%|▏         | 27/2000 [00:14<17:49,  1.84it/s]A\n",
      "Training:   1%|▏         | 28/2000 [00:14<16:27,  2.00it/s]A\n",
      "Training:   1%|▏         | 29/2000 [00:15<15:10,  2.16it/s]A\n",
      "Training:   2%|▏         | 30/2000 [00:15<15:01,  2.18it/s]A\n",
      "                                                           A\n"
     ]
    },
    {
     "name": "stdout",
     "output_type": "stream",
     "text": [
      "Step 30/2000, Total Loss: 12.0312, Mel Loss: 4.2245, Mel PostNet Loss: 4.2436, Pitch Loss: 0.7508, Energy Loss: 1.7168, Duration Loss: 1.0954\n"
     ]
    },
    {
     "name": "stderr",
     "output_type": "stream",
     "text": [
      "Training:   2%|▏         | 30/2000 [00:16<15:01,  2.18it/s]\n",
      "Training:   2%|▏         | 31/2000 [00:16<17:54,  1.83it/s]A\n",
      "Training:   2%|▏         | 32/2000 [00:16<13:55,  2.36it/s]A\n",
      "Training:   2%|▏         | 33/2000 [00:16<13:09,  2.49it/s]A\n",
      "Training:   2%|▏         | 34/2000 [00:17<14:33,  2.25it/s]A\n",
      "Training:   2%|▏         | 35/2000 [00:18<17:04,  1.92it/s]A\n",
      "Training:   2%|▏         | 36/2000 [00:18<18:05,  1.81it/s]A\n",
      "Training:   2%|▏         | 37/2000 [00:19<19:17,  1.70it/s]A\n",
      "Training:   2%|▏         | 38/2000 [00:20<19:26,  1.68it/s]A\n",
      "Training:   2%|▏         | 39/2000 [00:20<17:33,  1.86it/s]A\n",
      "Training:   2%|▏         | 40/2000 [00:20<16:43,  1.95it/s]A\n",
      "                                                           A\n"
     ]
    },
    {
     "name": "stdout",
     "output_type": "stream",
     "text": [
      "Step 40/2000, Total Loss: 10.9648, Mel Loss: 3.6223, Mel PostNet Loss: 3.4384, Pitch Loss: 1.2292, Energy Loss: 1.8729, Duration Loss: 0.8020\n"
     ]
    },
    {
     "name": "stderr",
     "output_type": "stream",
     "text": [
      "Training:   2%|▏         | 40/2000 [00:21<16:43,  1.95it/s]\n",
      "Training:   2%|▏         | 41/2000 [00:21<18:48,  1.74it/s]A\n",
      "Training:   2%|▏         | 42/2000 [00:21<17:10,  1.90it/s]A\n",
      "Training:   2%|▏         | 43/2000 [00:22<19:04,  1.71it/s]A\n",
      "Training:   2%|▏         | 44/2000 [00:23<20:26,  1.60it/s]A\n",
      "Training:   2%|▏         | 45/2000 [00:24<20:06,  1.62it/s]A\n",
      "Training:   2%|▏         | 46/2000 [00:24<19:09,  1.70it/s]A\n",
      "Training:   2%|▏         | 47/2000 [00:25<21:20,  1.53it/s]A\n",
      "Training:   2%|▏         | 48/2000 [00:26<22:52,  1.42it/s]A\n",
      "Training:   2%|▏         | 49/2000 [00:26<23:31,  1.38it/s]A\n",
      "Training:   2%|▎         | 50/2000 [00:27<24:13,  1.34it/s]A\n",
      "                                                           A\n"
     ]
    },
    {
     "name": "stdout",
     "output_type": "stream",
     "text": [
      "Step 50/2000, Total Loss: 9.5718, Mel Loss: 3.3939, Mel PostNet Loss: 3.0762, Pitch Loss: 0.6832, Energy Loss: 1.6821, Duration Loss: 0.7365\n"
     ]
    },
    {
     "name": "stderr",
     "output_type": "stream",
     "text": [
      "Training:   2%|▎         | 50/2000 [00:28<24:13,  1.34it/s]\n",
      "                                                           A\n"
     ]
    },
    {
     "name": "stdout",
     "output_type": "stream",
     "text": [
      "Validation Step 50, Total Loss: 10.7138, Mel Loss: 3.9190, Mel PostNet Loss: 2.5861, Pitch Loss: 0.8345, Energy Loss: 1.8896, Duration Loss: 1.4846\n"
     ]
    },
    {
     "name": "stderr",
     "output_type": "stream",
     "text": [
      "Training:   2%|▎         | 50/2000 [00:47<24:13,  1.34it/s]\n",
      "Training:   3%|▎         | 51/2000 [00:48<3:41:32,  6.82s/it]\n",
      "Training:   3%|▎         | 52/2000 [00:49<2:39:29,  4.91s/it]\n",
      "Training:   3%|▎         | 53/2000 [00:49<1:57:21,  3.62s/it]\n",
      "Training:   3%|▎         | 54/2000 [00:50<1:26:45,  2.68s/it]\n",
      "Training:   3%|▎         | 55/2000 [00:50<1:05:48,  2.03s/it]\n",
      "Training:   3%|▎         | 56/2000 [00:51<52:12,  1.61s/it]  \n",
      "Training:   3%|▎         | 57/2000 [00:52<42:18,  1.31s/it]A\n",
      "Training:   3%|▎         | 58/2000 [00:52<34:41,  1.07s/it]A\n",
      "Training:   3%|▎         | 59/2000 [00:52<27:43,  1.17it/s]A\n",
      "Training:   3%|▎         | 60/2000 [00:53<25:06,  1.29it/s]A\n",
      "                                                           A\n"
     ]
    },
    {
     "name": "stdout",
     "output_type": "stream",
     "text": [
      "Step 60/2000, Total Loss: 10.4992, Mel Loss: 3.6112, Mel PostNet Loss: 3.3047, Pitch Loss: 1.0521, Energy Loss: 1.7824, Duration Loss: 0.7488\n"
     ]
    },
    {
     "name": "stderr",
     "output_type": "stream",
     "text": [
      "Training:   3%|▎         | 60/2000 [00:54<25:06,  1.29it/s]\n",
      "Training:   3%|▎         | 61/2000 [00:54<29:26,  1.10it/s]A\n",
      "Training:   3%|▎         | 62/2000 [00:55<24:18,  1.33it/s]A\n",
      "Training:   3%|▎         | 63/2000 [00:55<24:14,  1.33it/s]A\n",
      "Training:   3%|▎         | 64/2000 [00:56<23:41,  1.36it/s]A\n",
      "Training:   3%|▎         | 65/2000 [00:57<21:29,  1.50it/s]A\n",
      "Training:   3%|▎         | 66/2000 [00:57<18:16,  1.76it/s]A\n",
      "Training:   3%|▎         | 67/2000 [00:57<16:43,  1.93it/s]A\n",
      "Training:   3%|▎         | 68/2000 [00:58<15:42,  2.05it/s]A\n",
      "Training:   3%|▎         | 69/2000 [00:58<16:56,  1.90it/s]A\n",
      "Training:   4%|▎         | 70/2000 [00:59<20:27,  1.57it/s]A\n",
      "                                                           A\n"
     ]
    },
    {
     "name": "stdout",
     "output_type": "stream",
     "text": [
      "Step 70/2000, Total Loss: 10.1033, Mel Loss: 3.7021, Mel PostNet Loss: 3.0753, Pitch Loss: 1.3029, Energy Loss: 1.3806, Duration Loss: 0.6424\n"
     ]
    },
    {
     "name": "stderr",
     "output_type": "stream",
     "text": [
      "Training:   4%|▎         | 70/2000 [01:01<20:27,  1.57it/s]\n",
      "Training:   4%|▎         | 71/2000 [01:01<27:33,  1.17it/s]A\n",
      "Training:   4%|▎         | 72/2000 [01:01<21:44,  1.48it/s]A\n",
      "Training:   4%|▎         | 73/2000 [01:02<22:20,  1.44it/s]A\n",
      "Training:   4%|▎         | 74/2000 [01:02<23:31,  1.36it/s]A\n",
      "Training:   4%|▍         | 75/2000 [01:03<24:24,  1.31it/s]A\n",
      "Training:   4%|▍         | 76/2000 [01:04<23:28,  1.37it/s]A\n",
      "Training:   4%|▍         | 77/2000 [01:05<22:29,  1.43it/s]A\n",
      "Training:   4%|▍         | 78/2000 [01:05<21:48,  1.47it/s]A\n",
      "Training:   4%|▍         | 79/2000 [01:06<18:30,  1.73it/s]A\n",
      "Training:   4%|▍         | 80/2000 [01:06<17:21,  1.84it/s]A\n",
      "                                                           A\n"
     ]
    },
    {
     "name": "stdout",
     "output_type": "stream",
     "text": [
      "Step 80/2000, Total Loss: 11.4855, Mel Loss: 3.7966, Mel PostNet Loss: 3.4654, Pitch Loss: 1.4821, Energy Loss: 1.8887, Duration Loss: 0.8527\n"
     ]
    },
    {
     "name": "stderr",
     "output_type": "stream",
     "text": [
      "Training:   4%|▍         | 80/2000 [01:07<17:21,  1.84it/s]\n",
      "Training:   4%|▍         | 81/2000 [01:07<19:22,  1.65it/s]A\n",
      "Training:   4%|▍         | 82/2000 [01:07<15:17,  2.09it/s]A\n",
      "Training:   4%|▍         | 83/2000 [01:07<16:10,  1.97it/s]A\n",
      "Training:   4%|▍         | 84/2000 [01:08<18:38,  1.71it/s]A\n",
      "Training:   4%|▍         | 85/2000 [01:09<19:26,  1.64it/s]A\n",
      "Training:   4%|▍         | 86/2000 [01:10<19:19,  1.65it/s]A\n",
      "Training:   4%|▍         | 87/2000 [01:10<19:24,  1.64it/s]A\n",
      "Training:   4%|▍         | 88/2000 [01:10<16:51,  1.89it/s]A\n",
      "Training:   4%|▍         | 89/2000 [01:11<15:24,  2.07it/s]A\n",
      "Training:   4%|▍         | 90/2000 [01:11<14:50,  2.15it/s]A\n",
      "                                                           A\n"
     ]
    },
    {
     "name": "stdout",
     "output_type": "stream",
     "text": [
      "Step 90/2000, Total Loss: 10.0296, Mel Loss: 3.9606, Mel PostNet Loss: 3.3241, Pitch Loss: 1.0007, Energy Loss: 1.1680, Duration Loss: 0.5762\n"
     ]
    },
    {
     "name": "stderr",
     "output_type": "stream",
     "text": [
      "Training:   4%|▍         | 90/2000 [01:12<14:50,  2.15it/s]\n",
      "Training:   5%|▍         | 91/2000 [01:12<21:34,  1.47it/s]A\n",
      "Training:   5%|▍         | 92/2000 [01:13<19:09,  1.66it/s]A\n",
      "Training:   5%|▍         | 93/2000 [01:14<20:29,  1.55it/s]A\n",
      "Training:   5%|▍         | 94/2000 [01:14<21:08,  1.50it/s]A\n",
      "Training:   5%|▍         | 95/2000 [01:15<21:03,  1.51it/s]A\n",
      "Training:   5%|▍         | 96/2000 [01:15<18:56,  1.68it/s]A\n",
      "Training:   5%|▍         | 97/2000 [01:16<19:24,  1.63it/s]A\n",
      "Training:   5%|▍         | 98/2000 [01:17<19:50,  1.60it/s]A\n",
      "Training:   5%|▍         | 99/2000 [01:17<19:49,  1.60it/s]A\n"
     ]
    }
   ],
   "source": [
    "%%cmd\n",
    "python ./train.py                        ^\n",
    "    -p ./config/LibriTTS/preprocess.yaml ^\n",
    "    -m ./config/LibriTTS/model.yaml      ^\n",
    "    -t ./config/LibriTTS/train.yaml"
   ]
  },
  {
   "cell_type": "code",
   "execution_count": null,
   "metadata": {},
   "outputs": [],
   "source": []
  }
 ],
 "metadata": {
  "kernelspec": {
   "display_name": "datascience",
   "language": "python",
   "name": "python3"
  },
  "language_info": {
   "codemirror_mode": {
    "name": "ipython",
    "version": 3
   },
   "file_extension": ".py",
   "mimetype": "text/x-python",
   "name": "python",
   "nbconvert_exporter": "python",
   "pygments_lexer": "ipython3",
   "version": "3.9.15"
  },
  "orig_nbformat": 4,
  "vscode": {
   "interpreter": {
    "hash": "26f7c1def80802f1019f9a945fc7cde95e62b8e18003bcf130d5105a098d1fb2"
   }
  }
 },
 "nbformat": 4,
 "nbformat_minor": 2
}
