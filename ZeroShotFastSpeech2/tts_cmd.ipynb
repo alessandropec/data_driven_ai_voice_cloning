{
 "cells": [
  {
   "attachments": {},
   "cell_type": "markdown",
   "metadata": {},
   "source": [
    "# Preprocess LibriTTS\n",
    "\n",
    "1. prepare_align: reorganize the dataset\n",
    "2. preprocess use text grid and dataset to generate mel,duration,pitch,energy (see readme.md)"
   ]
  },
  {
   "cell_type": "code",
   "execution_count": 3,
   "metadata": {},
   "outputs": [
    {
     "name": "stdout",
     "output_type": "stream",
     "text": [
      "Microsoft Windows [Version 10.0.19045.2486]\n",
      "(c) Microsoft Corporation. All rights reserved.\n",
      "\n",
      "(datascience) c:\\Users\\a.pecora\\Desktop\\Tesi\\data_driven_ai_voice_cloning\\ZeroShotFastSpeech2>python ./prepare_align.py ./config/LibriTTS/preprocess.yaml\n"
     ]
    },
    {
     "name": "stderr",
     "output_type": "stream",
     "text": [
      "  0%|          | 0/2 [00:00<?, ?it/s]c:\\Users\\a.pecora\\Desktop\\Tesi\\data_driven_ai_voice_cloning\\ZeroShotFastSpeech2\\preprocessor\\libritts.py:37: FutureWarning: Pass sr=22050 as keyword args. From version 0.10 passing these as positional arguments will result in an error\n",
      "  wav, _ = librosa.load(wav_path, sampling_rate)\n",
      "c:\\Users\\a.pecora\\Desktop\\Tesi\\data_driven_ai_voice_cloning\\ZeroShotFastSpeech2\\preprocessor\\libritts.py:37: FutureWarning: Pass sr=22050 as keyword args. From version 0.10 passing these as positional arguments will result in an error\n",
      "  wav, _ = librosa.load(wav_path, sampling_rate)\n",
      "100%|██████████| 2/2 [00:19<00:00,  9.72s/it]\n"
     ]
    },
    {
     "name": "stdout",
     "output_type": "stream",
     "text": [
      "\n",
      "(datascience) c:\\Users\\a.pecora\\Desktop\\Tesi\\data_driven_ai_voice_cloning\\ZeroShotFastSpeech2>"
     ]
    }
   ],
   "source": [
    "%%cmd\n",
    "python ./prepare_align.py ./config/LibriTTS/preprocess.yaml"
   ]
  },
  {
   "cell_type": "code",
   "execution_count": 4,
   "metadata": {},
   "outputs": [
    {
     "name": "stdout",
     "output_type": "stream",
     "text": [
      "Microsoft Windows [Version 10.0.19045.2486]\n",
      "(c) Microsoft Corporation. All rights reserved.\n",
      "\n",
      "(datascience) c:\\Users\\a.pecora\\Desktop\\Tesi\\data_driven_ai_voice_cloning\\ZeroShotFastSpeech2>python ./ZeroShotFastSpeech2/preprocess.py ./ZeroShotFastSpeech2/config/LibriTTS/preprocess.yaml\n"
     ]
    },
    {
     "name": "stderr",
     "output_type": "stream",
     "text": [
      "python: can't open file 'c:\\Users\\a.pecora\\Desktop\\Tesi\\data_driven_ai_voice_cloning\\ZeroShotFastSpeech2\\ZeroShotFastSpeech2\\preprocess.py': [Errno 2] No such file or directory\n"
     ]
    },
    {
     "name": "stdout",
     "output_type": "stream",
     "text": [
      "\n",
      "(datascience) c:\\Users\\a.pecora\\Desktop\\Tesi\\data_driven_ai_voice_cloning\\ZeroShotFastSpeech2>"
     ]
    }
   ],
   "source": [
    "%%cmd\n",
    "python ./preprocess.py ./config/LibriTTS/preprocess.yaml"
   ]
  },
  {
   "attachments": {},
   "cell_type": "markdown",
   "metadata": {},
   "source": [
    "# Train FastSpeech2\n",
    "\n",
    "Specify, the configuration, for Simple MultiSpeaker or ZeroShot "
   ]
  },
  {
   "cell_type": "code",
   "execution_count": 5,
   "metadata": {},
   "outputs": [
    {
     "name": "stdout",
     "output_type": "stream",
     "text": [
      "Microsoft Windows [Version 10.0.19045.2486]\n",
      "(c) Microsoft Corporation. All rights reserved.\n",
      "\n",
      "(datascience) c:\\Users\\a.pecora\\Desktop\\Tesi\\data_driven_ai_voice_cloning\\ZeroShotFastSpeech2>python ./train.py                        ^\n",
      "More?     -p ./config/LibriTTS/preprocess.yaml ^\n",
      "More?     -m ./config/LibriTTS/model.yaml      ^\n",
      "More?     -t ./config/LibriTTS/train.yaml\n",
      "Prepare training ...\n",
      "Decoder enlarged dimension: 448\n",
      "Number of FastSpeech2 Parameters: 50417793\n"
     ]
    },
    {
     "name": "stderr",
     "output_type": "stream",
     "text": [
      "Traceback (most recent call last):\n",
      "  File \"c:\\Users\\a.pecora\\Desktop\\Tesi\\data_driven_ai_voice_cloning\\ZeroShotFastSpeech2\\train.py\", line 198, in <module>\n",
      "    main(args, configs)\n",
      "  File \"c:\\Users\\a.pecora\\Desktop\\Tesi\\data_driven_ai_voice_cloning\\ZeroShotFastSpeech2\\train.py\", line 48, in main\n",
      "    vocoder = get_vocoder(model_config, device)\n",
      "  File \"c:\\Users\\a.pecora\\Desktop\\Tesi\\data_driven_ai_voice_cloning\\ZeroShotFastSpeech2\\utils\\model.py\", line 66, in get_vocoder\n",
      "    ckpt = torch.load(\"hifigan/generator_universal.pth.tar\")\n",
      "  File \"c:\\Users\\a.pecora\\Anaconda3\\envs\\datascience\\lib\\site-packages\\torch\\serialization.py\", line 771, in load\n",
      "    with _open_file_like(f, 'rb') as opened_file:\n",
      "  File \"c:\\Users\\a.pecora\\Anaconda3\\envs\\datascience\\lib\\site-packages\\torch\\serialization.py\", line 270, in _open_file_like\n",
      "    return _open_file(name_or_buffer, mode)\n",
      "  File \"c:\\Users\\a.pecora\\Anaconda3\\envs\\datascience\\lib\\site-packages\\torch\\serialization.py\", line 251, in __init__\n",
      "    super(_open_file, self).__init__(open(name, mode))\n",
      "FileNotFoundError: [Errno 2] No such file or directory: 'hifigan/generator_universal.pth.tar'\n"
     ]
    },
    {
     "name": "stdout",
     "output_type": "stream",
     "text": [
      "\n",
      "(datascience) c:\\Users\\a.pecora\\Desktop\\Tesi\\data_driven_ai_voice_cloning\\ZeroShotFastSpeech2>"
     ]
    }
   ],
   "source": [
    "%%cmd\n",
    "python ./train.py                        ^\n",
    "    -p ./config/LibriTTS/preprocess.yaml ^\n",
    "    -m ./config/LibriTTS/model.yaml      ^\n",
    "    -t ./config/LibriTTS/train.yaml"
   ]
  },
  {
   "cell_type": "code",
   "execution_count": null,
   "metadata": {},
   "outputs": [],
   "source": []
  }
 ],
 "metadata": {
  "kernelspec": {
   "display_name": "datascience",
   "language": "python",
   "name": "python3"
  },
  "language_info": {
   "codemirror_mode": {
    "name": "ipython",
    "version": 3
   },
   "file_extension": ".py",
   "mimetype": "text/x-python",
   "name": "python",
   "nbconvert_exporter": "python",
   "pygments_lexer": "ipython3",
   "version": "3.9.15"
  },
  "orig_nbformat": 4,
  "vscode": {
   "interpreter": {
    "hash": "26f7c1def80802f1019f9a945fc7cde95e62b8e18003bcf130d5105a098d1fb2"
   }
  }
 },
 "nbformat": 4,
 "nbformat_minor": 2
}
