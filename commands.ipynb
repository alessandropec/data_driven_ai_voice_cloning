{
 "cells": [
  {
   "attachments": {},
   "cell_type": "markdown",
   "metadata": {},
   "source": [
    "# Train speaker encoder"
   ]
  },
  {
   "cell_type": "code",
   "execution_count": 1,
   "metadata": {},
   "outputs": [
    {
     "name": "stdout",
     "output_type": "stream",
     "text": [
      "Microsoft Windows [Version 10.0.19045.2486]\n",
      "(c) Microsoft Corporation. All rights reserved.\n",
      "\n",
      "(datascience) c:\\Users\\a.pecora\\Desktop\\Tesi\\data_driven_ai_voice_cloning>python ./SpeakerEncoder/train_encoder.py --config=train_config.json\n"
     ]
    },
    {
     "name": "stderr",
     "output_type": "stream",
     "text": [
      "The torchaudio backend is switched to 'soundfile'. Note that 'sox_io' is not supported on Windows.\n",
      "The torchaudio backend is switched to 'soundfile'. Note that 'sox_io' is not supported on Windows.\n",
      "Traceback (most recent call last):\n",
      "  File \"c:\\Users\\a.pecora\\Desktop\\Tesi\\data_driven_ai_voice_cloning\\SpeakerEncoder\\train_encoder.py\", line 16, in <module>\n",
      "    fp=open(args.config_path,\"r\")\n",
      "FileNotFoundError: [Errno 2] No such file or directory: 'train_config.json'\n"
     ]
    },
    {
     "name": "stdout",
     "output_type": "stream",
     "text": [
      "\n",
      "(datascience) c:\\Users\\a.pecora\\Desktop\\Tesi\\data_driven_ai_voice_cloning>"
     ]
    }
   ],
   "source": [
    "%%cmd\n",
    "python ./SpeakerEncoder/train_encoder.py --config=./SpeakerEncoder/train_config.json"
   ]
  },
  {
   "attachments": {},
   "cell_type": "markdown",
   "metadata": {},
   "source": [
    "# Create speaker embedding dataset"
   ]
  },
  {
   "cell_type": "code",
   "execution_count": null,
   "metadata": {},
   "outputs": [],
   "source": [
    "%%cmd\n",
    "python create_speaker_emb_dataset.py --model_name ecapa --dataset_name VCTK --dataset_dir ROOT_PATH_OF_DATASET --model_device cuda --checkpoint model.pt"
   ]
  },
  {
   "attachments": {},
   "cell_type": "markdown",
   "metadata": {},
   "source": [
    "# Preprocess LibriTTS\n",
    "\n",
    "1. prepare_align: reorganize the dataset\n",
    "2. preprocess use text grid and dataset to generate mel,duration,pitch,energy (see readme.md)"
   ]
  },
  {
   "cell_type": "code",
   "execution_count": 7,
   "metadata": {},
   "outputs": [
    {
     "name": "stdout",
     "output_type": "stream",
     "text": [
      "Microsoft Windows [Version 10.0.19045.2486]\n",
      "(c) Microsoft Corporation. All rights reserved.\n",
      "\n",
      "(datascience) c:\\Users\\a.pecora\\Desktop\\Tesi\\data_driven_ai_voice_cloning>python ./ZeroShotFastSpeech2/prepare_align.py ./ZeroShotFastSpeech2/config/LibriTTS/preprocess.yaml\n"
     ]
    },
    {
     "name": "stderr",
     "output_type": "stream",
     "text": [
      "  0%|          | 0/2 [00:00<?, ?it/s]c:\\Users\\a.pecora\\Desktop\\Tesi\\data_driven_ai_voice_cloning\\ZeroShotFastSpeech2\\preprocessor\\libritts.py:37: FutureWarning: Pass sr=22050 as keyword args. From version 0.10 passing these as positional arguments will result in an error\n",
      "  wav, _ = librosa.load(wav_path, sampling_rate)\n",
      "c:\\Users\\a.pecora\\Desktop\\Tesi\\data_driven_ai_voice_cloning\\ZeroShotFastSpeech2\\preprocessor\\libritts.py:37: FutureWarning: Pass sr=22050 as keyword args. From version 0.10 passing these as positional arguments will result in an error\n",
      "  wav, _ = librosa.load(wav_path, sampling_rate)\n",
      "100%|██████████| 2/2 [00:19<00:00,  9.81s/it]\n"
     ]
    },
    {
     "name": "stdout",
     "output_type": "stream",
     "text": [
      "\n",
      "(datascience) c:\\Users\\a.pecora\\Desktop\\Tesi\\data_driven_ai_voice_cloning>"
     ]
    }
   ],
   "source": [
    "%%cmd\n",
    "python ./ZeroShotFastSpeech2/prepare_align.py ./ZeroShotFastSpeech2/config/LibriTTS/preprocess.yaml"
   ]
  },
  {
   "cell_type": "code",
   "execution_count": 9,
   "metadata": {},
   "outputs": [
    {
     "name": "stdout",
     "output_type": "stream",
     "text": [
      "Microsoft Windows [Version 10.0.19045.2486]\n",
      "(c) Microsoft Corporation. All rights reserved.\n",
      "\n",
      "(datascience) c:\\Users\\a.pecora\\Desktop\\Tesi\\data_driven_ai_voice_cloning>python ./ZeroShotFastSpeech2/preprocess.py ./ZeroShotFastSpeech2/config/LibriTTS/preprocess.yaml\n"
     ]
    },
    {
     "name": "stderr",
     "output_type": "stream",
     "text": [
      "c:\\Users\\a.pecora\\Desktop\\Tesi\\data_driven_ai_voice_cloning\\ZeroShotFastSpeech2\\audio\\stft.py:42: FutureWarning: Pass size=1024 as keyword args. From version 0.10 passing these as positional arguments will result in an error\n",
      "  fft_window = pad_center(fft_window, filter_length)\n",
      "c:\\Users\\a.pecora\\Desktop\\Tesi\\data_driven_ai_voice_cloning\\ZeroShotFastSpeech2\\audio\\stft.py:145: FutureWarning: Pass sr=22050, n_fft=1024, n_mels=80, fmin=0, fmax=8000 as keyword args. From version 0.10 passing these as positional arguments will result in an error\n",
      "  mel_basis = librosa_mel_fn(\n"
     ]
    },
    {
     "name": "stdout",
     "output_type": "stream",
     "text": [
      "Processing Data ...\n"
     ]
    }
   ],
   "source": [
    "%%cmd\n",
    "python ./ZeroShotFastSpeech2/preprocess.py ./ZeroShotFastSpeech2/config/LibriTTS/preprocess.yaml"
   ]
  },
  {
   "attachments": {},
   "cell_type": "markdown",
   "metadata": {},
   "source": [
    "# Train FastSpeech2\n",
    "\n",
    "Specify, the configuration, for Simple MultiSpeaker or ZeroShot "
   ]
  },
  {
   "cell_type": "code",
   "execution_count": 2,
   "metadata": {},
   "outputs": [
    {
     "name": "stdout",
     "output_type": "stream",
     "text": [
      "Microsoft Windows [Version 10.0.19045.2486]\n",
      "(c) Microsoft Corporation. All rights reserved.\n",
      "\n",
      "(datascience) c:\\Users\\a.pecora\\Desktop\\Tesi\\data_driven_ai_voice_cloning>python ./ZeroShotFastSpeech2/train.py                        ^\n",
      "More?     -p ./ZeroShotFastSpeech2/config/LibriTTS/preprocess.yaml ^\n",
      "More?     -m ./ZeroShotFastSpeech2/config/LibriTTS/model.yaml      ^\n",
      "More?     -t ./ZeroShotFastSpeech2/config/LibriTTS/train.yaml\n",
      "Prepare training ...\n",
      "Decoder enlarged dimension: 448\n",
      "Number of FastSpeech2 Parameters: 50417793\n"
     ]
    },
    {
     "name": "stderr",
     "output_type": "stream",
     "text": [
      "Traceback (most recent call last):\n",
      "  File \"c:\\Users\\a.pecora\\Desktop\\Tesi\\data_driven_ai_voice_cloning\\ZeroShotFastSpeech2\\train.py\", line 198, in <module>\n",
      "    main(args, configs)\n",
      "  File \"c:\\Users\\a.pecora\\Desktop\\Tesi\\data_driven_ai_voice_cloning\\ZeroShotFastSpeech2\\train.py\", line 48, in main\n",
      "    vocoder = get_vocoder(model_config, device)\n",
      "  File \"c:\\Users\\a.pecora\\Desktop\\Tesi\\data_driven_ai_voice_cloning\\ZeroShotFastSpeech2\\utils\\model.py\", line 66, in get_vocoder\n",
      "    ckpt = torch.load(\"hifigan/generator_universal.pth.tar\")\n",
      "  File \"c:\\Users\\a.pecora\\Anaconda3\\envs\\datascience\\lib\\site-packages\\torch\\serialization.py\", line 771, in load\n",
      "    with _open_file_like(f, 'rb') as opened_file:\n",
      "  File \"c:\\Users\\a.pecora\\Anaconda3\\envs\\datascience\\lib\\site-packages\\torch\\serialization.py\", line 270, in _open_file_like\n",
      "    return _open_file(name_or_buffer, mode)\n",
      "  File \"c:\\Users\\a.pecora\\Anaconda3\\envs\\datascience\\lib\\site-packages\\torch\\serialization.py\", line 251, in __init__\n",
      "    super(_open_file, self).__init__(open(name, mode))\n",
      "FileNotFoundError: [Errno 2] No such file or directory: 'hifigan/generator_universal.pth.tar'\n"
     ]
    },
    {
     "name": "stdout",
     "output_type": "stream",
     "text": [
      "\n",
      "(datascience) c:\\Users\\a.pecora\\Desktop\\Tesi\\data_driven_ai_voice_cloning>"
     ]
    }
   ],
   "source": [
    "%%cmd\n",
    "python ./ZeroShotFastSpeech2/train.py                        ^\n",
    "    -p ./ZeroShotFastSpeech2/config/LibriTTS/preprocess.yaml ^\n",
    "    -m ./ZeroShotFastSpeech2/config/LibriTTS/model.yaml      ^\n",
    "    -t ./ZeroShotFastSpeech2/config/LibriTTS/train.yaml"
   ]
  },
  {
   "cell_type": "code",
   "execution_count": null,
   "metadata": {},
   "outputs": [],
   "source": []
  }
 ],
 "metadata": {
  "kernelspec": {
   "display_name": "datascience",
   "language": "python",
   "name": "python3"
  },
  "language_info": {
   "codemirror_mode": {
    "name": "ipython",
    "version": 3
   },
   "file_extension": ".py",
   "mimetype": "text/x-python",
   "name": "python",
   "nbconvert_exporter": "python",
   "pygments_lexer": "ipython3",
   "version": "3.9.15"
  },
  "orig_nbformat": 4,
  "vscode": {
   "interpreter": {
    "hash": "26f7c1def80802f1019f9a945fc7cde95e62b8e18003bcf130d5105a098d1fb2"
   }
  }
 },
 "nbformat": 4,
 "nbformat_minor": 2
}
