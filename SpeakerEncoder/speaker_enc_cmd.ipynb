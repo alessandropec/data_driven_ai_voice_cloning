{
 "cells": [
  {
   "attachments": {},
   "cell_type": "markdown",
   "metadata": {},
   "source": [
    "# Train speaker encoder"
   ]
  },
  {
   "cell_type": "code",
   "execution_count": 5,
   "metadata": {},
   "outputs": [
    {
     "name": "stdout",
     "output_type": "stream",
     "text": [
      "Microsoft Windows [Version 10.0.19045.2486]\n",
      "(c) Microsoft Corporation. All rights reserved.\n",
      "\n",
      "(datascience) c:\\Users\\a.pecora\\Desktop\\Tesi\\data_driven_ai_voice_cloning\\SpeakerEncoder>\n",
      "(datascience) c:\\Users\\a.pecora\\Desktop\\Tesi\\data_driven_ai_voice_cloning\\SpeakerEncoder>python train_encoder.py --config=train_config.json\n"
     ]
    },
    {
     "name": "stderr",
     "output_type": "stream",
     "text": [
      "The torchaudio backend is switched to 'soundfile'. Note that 'sox_io' is not supported on Windows.\n",
      "The torchaudio backend is switched to 'soundfile'. Note that 'sox_io' is not supported on Windows.\n"
     ]
    },
    {
     "name": "stdout",
     "output_type": "stream",
     "text": [
      "Config:\n",
      " {'model_name': 'wavlm-base-plus-sv', 'run_id': 'wavlm-base-plus-sv_run', 'train_data_root': '../datasets/vc1/train', 'val_data_root': '../datasets/vc1/val', 'multi_rec_session': False, 'model_sample_rate': 16000, 'window_size_s': 2, 'num_epochs': 100, 'comet_key': 'YOUR_COMET_KEY_HERE', 'comet_project': 'YOUR_COMET_PROJECT_NAME_HERE', 'vis_train_art_every': 5, 'vis_train_metrics_every': 1, 'val_every': 25, 'vis_val_art_every': 5, 'val_max_epochs': 1, 'backup_every': 50, 'save_every': 25, 'scheduler_factor': 0.6, 'scheduler_patience': 3, 'weight_decay': 0, 'force_restart': True, 'device': 'cpu', 'aug_device': 'cpu', 'num_workers': 2, 'speakers_per_batch': 6, 'utterances_per_speaker': 8, 'learning_rate_init': 1e-06, 'val_speakers_per_batch': 4, 'val_utterances_per_speaker': 8, 'activation_function': None, 'use_data_augmentation': True, 'augment_noises_paths': ['../datasets/augmentation_dataset/noise/free-sound/', '../datasets/augmentation_dataset/noise/free-sound/'], 'augment_musics_paths': ['../datasets/augmentation_dataset/music/fma-western-art/', '../datasets/augmentation_dataset/music/fma/', '../datasets/augmentation_dataset/music/hd-classical/', '../datasets/augmentation_dataset/music/jamendo/', '../datasets/augmentation_dataset/music/rfm/'], 'augment_reverbs_paths': ['../datasets/augmentation_dataset/reverb/'], 'data_parallel': [0, 1, 2, 3], 'annote_point': False}\n",
      "Setting comet viz...\n"
     ]
    },
    {
     "name": "stderr",
     "output_type": "stream",
     "text": [
      "COMET ERROR: The given API key YOUR_COMET_KEY_HERE is invalid on www.comet.com, please check it against the dashboard. Your experiment will not be logged \n",
      "For more details, please refer to: https://www.comet.com/docs/python-sdk/warnings-errors/\n",
      "COMET ERROR: The given API key YOUR_COMET_KEY_HERE is invalid on www.comet.com, please check it against the dashboard. Your experiment will not be logged \n",
      "For more details, please refer to: https://www.comet.com/docs/python-sdk/warnings-errors/\n"
     ]
    },
    {
     "name": "stdout",
     "output_type": "stream",
     "text": [
      "Instantiate train dataset/dataloader...\n"
     ]
    },
    {
     "name": "stderr",
     "output_type": "stream",
     "text": [
      "Traceback (most recent call last):\n",
      "  File \"c:\\Users\\a.pecora\\Desktop\\Tesi\\data_driven_ai_voice_cloning\\SpeakerEncoder\\train_encoder.py\", line 27, in <module>\n",
      "    train_with_comet_viz(**config)\n",
      "  File \"c:\\Users\\a.pecora\\Desktop\\Tesi\\data_driven_ai_voice_cloning\\SpeakerEncoder\\train.py\", line 244, in train_with_comet_viz\n",
      "    dataset = SpeakerVerificationDataset(train_data_root,speakers_per_batch,\n",
      "  File \"c:\\Users\\a.pecora\\Desktop\\Tesi\\data_driven_ai_voice_cloning\\SpeakerEncoder\\data_objects\\speaker_verification_dataset.py\", line 68, in __init__\n",
      "    raise Exception(\"No speakers found. Make sure you are pointing to the directory \"\n",
      "Exception: No speakers found. Make sure you are pointing to the directory containing all preprocessed speaker directories.\n"
     ]
    },
    {
     "name": "stdout",
     "output_type": "stream",
     "text": [
      "\n",
      "(datascience) c:\\Users\\a.pecora\\Desktop\\Tesi\\data_driven_ai_voice_cloning\\SpeakerEncoder>"
     ]
    }
   ],
   "source": [
    "%%cmd\n",
    "\n",
    "python train_encoder.py --config=train_config.json"
   ]
  },
  {
   "attachments": {},
   "cell_type": "markdown",
   "metadata": {},
   "source": [
    "# Create speaker embedding dataset"
   ]
  },
  {
   "cell_type": "code",
   "execution_count": 6,
   "metadata": {},
   "outputs": [
    {
     "name": "stdout",
     "output_type": "stream",
     "text": [
      "Microsoft Windows [Version 10.0.19045.2486]\n",
      "(c) Microsoft Corporation. All rights reserved.\n",
      "\n",
      "(datascience) c:\\Users\\a.pecora\\Desktop\\Tesi\\data_driven_ai_voice_cloning\\SpeakerEncoder>python ./create_speaker_emb_dataset.py ^\n",
      "More?         --model_name ecapa ^\n",
      "More?         --model_device cuda ^\n",
      "More?         --dataset_name VCTK ^\n",
      "More?         --dataset_dir ZeroShotFastSpeech2/datasets/LibriTTS  \n"
     ]
    },
    {
     "name": "stderr",
     "output_type": "stream",
     "text": [
      "The torchaudio backend is switched to 'soundfile'. Note that 'sox_io' is not supported on Windows.\n",
      "The torchaudio backend is switched to 'soundfile'. Note that 'sox_io' is not supported on Windows.\n"
     ]
    },
    {
     "name": "stdout",
     "output_type": "stream",
     "text": [
      "ArgumentParser(prog='create_speaker_emb_dataset.py', usage=None, description=None, formatter_class=<class 'argparse.HelpFormatter'>, conflict_handler='error', add_help=True)\n",
      "Namespace(model_name='ecapa', checkpoint=None, dataset_name='VCTK', dataset_dir='ZeroShotFastSpeech2/datasets/LibriTTS', model_device='cuda')\n",
      "ecapa\n",
      "speechbrain/spkrec-ecapa-voxceleb loaded pretrained\n",
      "#################-Loading VCTK paths-##########################\n",
      "Number of speaker: 0\n",
      "#########-START CREATION EMBEDDINGS-########\n"
     ]
    },
    {
     "name": "stderr",
     "output_type": "stream",
     "text": [
      "0it [00:00, ?it/s]\n"
     ]
    },
    {
     "name": "stdout",
     "output_type": "stream",
     "text": [
      "\n",
      "(datascience) c:\\Users\\a.pecora\\Desktop\\Tesi\\data_driven_ai_voice_cloning\\SpeakerEncoder>"
     ]
    }
   ],
   "source": [
    "%%cmd\n",
    "python ./create_speaker_emb_dataset.py ^\n",
    "        --model_name ecapa ^\n",
    "        --model_device cuda ^\n",
    "        --dataset_name VCTK ^\n",
    "        --dataset_dir ZeroShotFastSpeech2/datasets/LibriTTS  "
   ]
  },
  {
   "cell_type": "code",
   "execution_count": null,
   "metadata": {},
   "outputs": [],
   "source": []
  }
 ],
 "metadata": {
  "kernelspec": {
   "display_name": "datascience",
   "language": "python",
   "name": "python3"
  },
  "language_info": {
   "codemirror_mode": {
    "name": "ipython",
    "version": 3
   },
   "file_extension": ".py",
   "mimetype": "text/x-python",
   "name": "python",
   "nbconvert_exporter": "python",
   "pygments_lexer": "ipython3",
   "version": "3.9.15"
  },
  "orig_nbformat": 4,
  "vscode": {
   "interpreter": {
    "hash": "26f7c1def80802f1019f9a945fc7cde95e62b8e18003bcf130d5105a098d1fb2"
   }
  }
 },
 "nbformat": 4,
 "nbformat_minor": 2
}
