{
 "cells": [
  {
   "attachments": {},
   "cell_type": "markdown",
   "metadata": {},
   "source": [
    "# Train speaker encoder"
   ]
  },
  {
   "cell_type": "code",
   "execution_count": null,
   "metadata": {},
   "outputs": [],
   "source": [
    "%%cmd\n",
    "\n",
    "python train_encoder.py --config=train_config.json"
   ]
  },
  {
   "attachments": {},
   "cell_type": "markdown",
   "metadata": {},
   "source": [
    "# Create speaker embedding dataset"
   ]
  },
  {
   "cell_type": "code",
   "execution_count": 6,
   "metadata": {},
   "outputs": [
    {
     "name": "stdout",
     "output_type": "stream",
     "text": [
      "Microsoft Windows [Version 10.0.19045.2486]\n",
      "(c) Microsoft Corporation. All rights reserved.\n",
      "\n",
      "(datascience) c:\\Users\\a.pecora\\Desktop\\Tesi\\data_driven_ai_voice_cloning\\SpeakerEncoder>python ./create_speaker_emb_dataset.py ^\n",
      "More?         --model_name ecapa ^\n",
      "More?         --model_device cuda ^\n",
      "More?         --dataset_name VCTK ^\n",
      "More?         --dataset_dir ZeroShotFastSpeech2/datasets/LibriTTS  \n"
     ]
    },
    {
     "name": "stderr",
     "output_type": "stream",
     "text": [
      "The torchaudio backend is switched to 'soundfile'. Note that 'sox_io' is not supported on Windows.\n",
      "The torchaudio backend is switched to 'soundfile'. Note that 'sox_io' is not supported on Windows.\n"
     ]
    },
    {
     "name": "stdout",
     "output_type": "stream",
     "text": [
      "ArgumentParser(prog='create_speaker_emb_dataset.py', usage=None, description=None, formatter_class=<class 'argparse.HelpFormatter'>, conflict_handler='error', add_help=True)\n",
      "Namespace(model_name='ecapa', checkpoint=None, dataset_name='VCTK', dataset_dir='ZeroShotFastSpeech2/datasets/LibriTTS', model_device='cuda')\n",
      "ecapa\n",
      "speechbrain/spkrec-ecapa-voxceleb loaded pretrained\n",
      "#################-Loading VCTK paths-##########################\n",
      "Number of speaker: 0\n",
      "#########-START CREATION EMBEDDINGS-########\n"
     ]
    },
    {
     "name": "stderr",
     "output_type": "stream",
     "text": [
      "0it [00:00, ?it/s]\n"
     ]
    },
    {
     "name": "stdout",
     "output_type": "stream",
     "text": [
      "\n",
      "(datascience) c:\\Users\\a.pecora\\Desktop\\Tesi\\data_driven_ai_voice_cloning\\SpeakerEncoder>"
     ]
    }
   ],
   "source": [
    "%%cmd\n",
    "python ./create_speaker_emb_dataset.py ^\n",
    "        --model_name ecapa ^\n",
    "        --model_device cuda ^\n",
    "        --dataset_name VCTK ^\n",
    "        --dataset_dir ZeroShotFastSpeech2/datasets/LibriTTS  "
   ]
  },
  {
   "cell_type": "code",
   "execution_count": null,
   "metadata": {},
   "outputs": [],
   "source": []
  }
 ],
 "metadata": {
  "kernelspec": {
   "display_name": "datascience",
   "language": "python",
   "name": "python3"
  },
  "language_info": {
   "codemirror_mode": {
    "name": "ipython",
    "version": 3
   },
   "file_extension": ".py",
   "mimetype": "text/x-python",
   "name": "python",
   "nbconvert_exporter": "python",
   "pygments_lexer": "ipython3",
   "version": "3.9.15"
  },
  "orig_nbformat": 4,
  "vscode": {
   "interpreter": {
    "hash": "26f7c1def80802f1019f9a945fc7cde95e62b8e18003bcf130d5105a098d1fb2"
   }
  }
 },
 "nbformat": 4,
 "nbformat_minor": 2
}
